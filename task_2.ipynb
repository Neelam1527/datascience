{
 "cells": [
  {
   "cell_type": "markdown",
   "id": "2a06f3ec-b19a-4b1d-ba0f-05df6fb41cdc",
   "metadata": {},
   "source": [
    "# Task 2"
   ]
  },
  {
   "cell_type": "markdown",
   "id": "c9bc1c66-555b-4a51-becd-5d5101a20234",
   "metadata": {},
   "source": [
    "### String Method"
   ]
  },
  {
   "cell_type": "code",
   "execution_count": 1,
   "id": "70bb9ee6-7348-4f20-8035-86d24b7ebbcb",
   "metadata": {},
   "outputs": [],
   "source": [
    "name = 'neelam'\n",
    "msg = 'hello earth'"
   ]
  },
  {
   "cell_type": "code",
   "execution_count": 2,
   "id": "77f9a5e0-9168-4127-805a-fe2349e49c7c",
   "metadata": {},
   "outputs": [
    {
     "data": {
      "text/plain": [
       "'NEELAM'"
      ]
     },
     "execution_count": 2,
     "metadata": {},
     "output_type": "execute_result"
    }
   ],
   "source": [
    "name.upper()"
   ]
  },
  {
   "cell_type": "code",
   "execution_count": 3,
   "id": "6f91b8bc-d501-4072-9bd1-b73ff5a136af",
   "metadata": {},
   "outputs": [
    {
     "data": {
      "text/plain": [
       "'neelam'"
      ]
     },
     "execution_count": 3,
     "metadata": {},
     "output_type": "execute_result"
    }
   ],
   "source": [
    "name.lower()"
   ]
  },
  {
   "cell_type": "code",
   "execution_count": 4,
   "id": "68bffb7f-936a-45e8-b4af-fa5e1cc41311",
   "metadata": {},
   "outputs": [
    {
     "data": {
      "text/plain": [
       "'Neelam'"
      ]
     },
     "execution_count": 4,
     "metadata": {},
     "output_type": "execute_result"
    }
   ],
   "source": [
    "name.capitalize()"
   ]
  },
  {
   "cell_type": "code",
   "execution_count": 5,
   "id": "e668f2a5-a7de-4309-944d-7f802d393cab",
   "metadata": {},
   "outputs": [
    {
     "data": {
      "text/plain": [
       "False"
      ]
     },
     "execution_count": 5,
     "metadata": {},
     "output_type": "execute_result"
    }
   ],
   "source": [
    "msg.istitle()"
   ]
  },
  {
   "cell_type": "code",
   "execution_count": 6,
   "id": "02a27634-1a98-49cb-af26-f86aa4232f5c",
   "metadata": {},
   "outputs": [
    {
     "data": {
      "text/plain": [
       "'Hello Earth'"
      ]
     },
     "execution_count": 6,
     "metadata": {},
     "output_type": "execute_result"
    }
   ],
   "source": [
    "msg.title()"
   ]
  },
  {
   "cell_type": "code",
   "execution_count": 7,
   "id": "c6b1bc90-0f85-405c-85f0-d4872471d370",
   "metadata": {},
   "outputs": [
    {
     "data": {
      "text/plain": [
       "'hello world'"
      ]
     },
     "execution_count": 7,
     "metadata": {},
     "output_type": "execute_result"
    }
   ],
   "source": [
    "msg.replace('earth','world')"
   ]
  },
  {
   "cell_type": "code",
   "execution_count": 8,
   "id": "14a8a5a6-f560-4958-a878-166c6af8dc07",
   "metadata": {},
   "outputs": [
    {
     "data": {
      "text/plain": [
       "['hello', 'earth']"
      ]
     },
     "execution_count": 8,
     "metadata": {},
     "output_type": "execute_result"
    }
   ],
   "source": [
    "msg.split(\" \")"
   ]
  },
  {
   "cell_type": "code",
   "execution_count": 9,
   "id": "98e8e5a2-8a2b-49db-a418-d236a6ceac09",
   "metadata": {},
   "outputs": [
    {
     "data": {
      "text/plain": [
       "9"
      ]
     },
     "execution_count": 9,
     "metadata": {},
     "output_type": "execute_result"
    }
   ],
   "source": [
    "msg.find('t')"
   ]
  },
  {
   "cell_type": "code",
   "execution_count": 10,
   "id": "d0e49e75-708d-41f8-a767-8e076eb85c7a",
   "metadata": {},
   "outputs": [
    {
     "data": {
      "text/plain": [
       "1"
      ]
     },
     "execution_count": 10,
     "metadata": {},
     "output_type": "execute_result"
    }
   ],
   "source": [
    "msg.index('e')"
   ]
  },
  {
   "cell_type": "code",
   "execution_count": 11,
   "id": "de8d9555-0f5a-4308-9794-d0c2c992c2e7",
   "metadata": {},
   "outputs": [
    {
     "data": {
      "text/plain": [
       "True"
      ]
     },
     "execution_count": 11,
     "metadata": {},
     "output_type": "execute_result"
    }
   ],
   "source": [
    "msg.startswith('hello')"
   ]
  },
  {
   "cell_type": "code",
   "execution_count": 12,
   "id": "ac870314-59fb-4cca-af27-cf79e5b85371",
   "metadata": {},
   "outputs": [
    {
     "data": {
      "text/plain": [
       "2"
      ]
     },
     "execution_count": 12,
     "metadata": {},
     "output_type": "execute_result"
    }
   ],
   "source": [
    "msg.count('e')"
   ]
  },
  {
   "cell_type": "code",
   "execution_count": 13,
   "id": "66c7b9a8-3ba6-4057-85e3-764706374b08",
   "metadata": {},
   "outputs": [
    {
     "data": {
      "text/plain": [
       "False"
      ]
     },
     "execution_count": 13,
     "metadata": {},
     "output_type": "execute_result"
    }
   ],
   "source": [
    "msg.isalpha()"
   ]
  },
  {
   "cell_type": "code",
   "execution_count": 14,
   "id": "ab730c4c-d4ce-4c61-b846-0819ce12b913",
   "metadata": {},
   "outputs": [
    {
     "data": {
      "text/plain": [
       "'  neelam  '"
      ]
     },
     "execution_count": 14,
     "metadata": {},
     "output_type": "execute_result"
    }
   ],
   "source": [
    "name.center(10)"
   ]
  },
  {
   "cell_type": "markdown",
   "id": "b2745ef4-909c-4d0f-a04f-4deb3b796543",
   "metadata": {},
   "source": [
    "## Assignment Operators"
   ]
  },
  {
   "cell_type": "code",
   "execution_count": 15,
   "id": "1f564414-fd4d-48ce-9097-12bc4bbf2b04",
   "metadata": {},
   "outputs": [],
   "source": [
    "# Assignment\n",
    "x = 5 # assign value 5 to x"
   ]
  },
  {
   "cell_type": "code",
   "execution_count": 16,
   "id": "8fe6180f-a973-45ef-8a5e-f1e78d38579f",
   "metadata": {},
   "outputs": [
    {
     "name": "stdout",
     "output_type": "stream",
     "text": [
      "8\n"
     ]
    }
   ],
   "source": [
    "# Add and Assign\n",
    "x += 3\n",
    "print(x)"
   ]
  },
  {
   "cell_type": "code",
   "execution_count": 17,
   "id": "2021ea3c-35de-433a-9014-fe35ec81b454",
   "metadata": {},
   "outputs": [
    {
     "name": "stdout",
     "output_type": "stream",
     "text": [
      "6\n"
     ]
    }
   ],
   "source": [
    "# Subtract and Assign\n",
    "x -= 2\n",
    "print(x)"
   ]
  },
  {
   "cell_type": "code",
   "execution_count": 18,
   "id": "3c90ec97-713d-4d5c-94bd-67337ae96df2",
   "metadata": {},
   "outputs": [
    {
     "name": "stdout",
     "output_type": "stream",
     "text": [
      "24\n"
     ]
    }
   ],
   "source": [
    "# Multiply and Assign\n",
    "x *= 4\n",
    "print(x)"
   ]
  },
  {
   "cell_type": "code",
   "execution_count": 19,
   "id": "7348fc37-7c87-4b20-b479-4d27fbe133ee",
   "metadata": {},
   "outputs": [
    {
     "name": "stdout",
     "output_type": "stream",
     "text": [
      "12.0\n"
     ]
    }
   ],
   "source": [
    "# Divide and Assign\n",
    "x /= 2\n",
    "print(x)"
   ]
  },
  {
   "cell_type": "code",
   "execution_count": 20,
   "id": "edeecde3-e508-4b5c-a97a-81ab47882c28",
   "metadata": {},
   "outputs": [
    {
     "name": "stdout",
     "output_type": "stream",
     "text": [
      "6.0\n"
     ]
    }
   ],
   "source": [
    "# Floor Divide and Assign\n",
    "x //= 2\n",
    "print(x)"
   ]
  },
  {
   "cell_type": "code",
   "execution_count": 21,
   "id": "d21046ab-b140-41d6-96b0-7a3e2860b20c",
   "metadata": {},
   "outputs": [
    {
     "name": "stdout",
     "output_type": "stream",
     "text": [
      "0.0\n"
     ]
    }
   ],
   "source": [
    "# Modulus and Assign\n",
    "x %= 3\n",
    "print(x)"
   ]
  },
  {
   "cell_type": "code",
   "execution_count": 22,
   "id": "6a919b52-1c59-4cde-a825-707b99585ef3",
   "metadata": {},
   "outputs": [
    {
     "name": "stdout",
     "output_type": "stream",
     "text": [
      "25\n"
     ]
    }
   ],
   "source": [
    "# Exponent and Assign\n",
    "x = 5\n",
    "x **= 2\n",
    "print(x)"
   ]
  },
  {
   "cell_type": "code",
   "execution_count": 23,
   "id": "a3be708e-24b7-4f68-adfb-9d6692243c56",
   "metadata": {},
   "outputs": [
    {
     "name": "stdout",
     "output_type": "stream",
     "text": [
      "1\n"
     ]
    }
   ],
   "source": [
    "# Bitwise AND and Assign\n",
    "x &= 1\n",
    "print(x)"
   ]
  },
  {
   "cell_type": "code",
   "execution_count": 24,
   "id": "d7a253d6-2759-4485-a526-27377af412fa",
   "metadata": {},
   "outputs": [
    {
     "name": "stdout",
     "output_type": "stream",
     "text": [
      "2\n"
     ]
    }
   ],
   "source": [
    "# Bitwise XOR and Assign\n",
    "x ^= 3\n",
    "print(x)"
   ]
  },
  {
   "cell_type": "code",
   "execution_count": 25,
   "id": "c9c62b50-c1b3-42c3-890d-4e8180798dd9",
   "metadata": {},
   "outputs": [
    {
     "name": "stdout",
     "output_type": "stream",
     "text": [
      "1\n"
     ]
    }
   ],
   "source": [
    "# Right Shift and Assign\n",
    "x >>= 1\n",
    "print(x)"
   ]
  },
  {
   "cell_type": "code",
   "execution_count": 26,
   "id": "5543c18b-01e3-434a-a06d-194cf93d2ef8",
   "metadata": {},
   "outputs": [
    {
     "name": "stdout",
     "output_type": "stream",
     "text": [
      "4\n"
     ]
    }
   ],
   "source": [
    "# Left Shift and Assign\n",
    "x <<= 2\n",
    "print(x)"
   ]
  },
  {
   "cell_type": "markdown",
   "id": "e13e743c-8e3d-4fa3-8fab-0ac0046c1ea9",
   "metadata": {},
   "source": [
    "## Bitwise Operators"
   ]
  },
  {
   "cell_type": "code",
   "execution_count": 27,
   "id": "a64c0f71-b90d-428c-b518-f6ac811ff9cb",
   "metadata": {},
   "outputs": [
    {
     "name": "stdout",
     "output_type": "stream",
     "text": [
      "1\n"
     ]
    }
   ],
   "source": [
    "# Bitwise AND \n",
    "x = 5     # 0101\n",
    "y = 3     # 0011\n",
    "print(x & y)  "
   ]
  },
  {
   "cell_type": "code",
   "execution_count": 28,
   "id": "9bbf4377-b132-42a7-8bdd-b6aa8c6047e6",
   "metadata": {},
   "outputs": [
    {
     "name": "stdout",
     "output_type": "stream",
     "text": [
      "7\n"
     ]
    }
   ],
   "source": [
    "# Bitwise OR\n",
    "x = 4     # 0100\n",
    "y = 3     # 0011\n",
    "print(x | y)  "
   ]
  },
  {
   "cell_type": "code",
   "execution_count": 29,
   "id": "f63fe226-b10c-4ec0-b220-f13c54c7617d",
   "metadata": {},
   "outputs": [
    {
     "name": "stdout",
     "output_type": "stream",
     "text": [
      "5\n"
     ]
    }
   ],
   "source": [
    "# Bitwise XOR \n",
    "x = 7     # 0111\n",
    "y = 2     # 0010\n",
    "print(x ^ y)  "
   ]
  },
  {
   "cell_type": "code",
   "execution_count": 30,
   "id": "5dbad6c7-4b2b-4bff-a511-e058d4f7c4da",
   "metadata": {},
   "outputs": [
    {
     "name": "stdout",
     "output_type": "stream",
     "text": [
      "-6\n"
     ]
    }
   ],
   "source": [
    "# Bitwise NOT \n",
    "x = 5     # 0101\n",
    "print(~x)"
   ]
  },
  {
   "cell_type": "code",
   "execution_count": 31,
   "id": "1d4852dc-3ddb-466a-a3ed-919e70d73b78",
   "metadata": {},
   "outputs": [
    {
     "name": "stdout",
     "output_type": "stream",
     "text": [
      "12\n"
     ]
    }
   ],
   "source": [
    "# Left Shift \n",
    "x = 3     # 0011\n",
    "print(x << 2) "
   ]
  },
  {
   "cell_type": "code",
   "execution_count": 32,
   "id": "cf25b986-b163-4221-9de6-b8f7d4066aa1",
   "metadata": {},
   "outputs": [
    {
     "name": "stdout",
     "output_type": "stream",
     "text": [
      "4\n"
     ]
    }
   ],
   "source": [
    "# Right Shift\n",
    "x = 16    # 10000\n",
    "print(x >> 2)  "
   ]
  },
  {
   "cell_type": "markdown",
   "id": "75d6130d-ed2c-4a5c-9d8c-76a66b14dcd9",
   "metadata": {},
   "source": [
    "## if-elif-else Statement"
   ]
  },
  {
   "cell_type": "code",
   "execution_count": 33,
   "id": "7265530f-38c4-41b4-a029-d1ecfcfd9dda",
   "metadata": {},
   "outputs": [
    {
     "name": "stdout",
     "output_type": "stream",
     "text": [
      "Positive\n"
     ]
    }
   ],
   "source": [
    "num = 2\n",
    "\n",
    "if num > 0:\n",
    "    print(\"Positive\")\n",
    "elif num == 0:\n",
    "    print(\"Zero\")\n",
    "else:\n",
    "    print(\"Negative\")\n"
   ]
  },
  {
   "cell_type": "markdown",
   "id": "67b5cbd7-762d-4fb0-abd7-5ef6c378f26a",
   "metadata": {},
   "source": [
    "## File Handling"
   ]
  },
  {
   "cell_type": "markdown",
   "id": "a5755ef9-bcd0-4f63-bbe4-653d4ba070e7",
   "metadata": {},
   "source": [
    "**1.Read File(r)**"
   ]
  },
  {
   "cell_type": "code",
   "execution_count": 34,
   "id": "0300bbc9-1910-4f1f-8b83-74c3bfe6abbe",
   "metadata": {},
   "outputs": [
    {
     "name": "stdout",
     "output_type": "stream",
     "text": [
      "Hi! I'm Neelam\n"
     ]
    }
   ],
   "source": [
    "f = open(\"untitled.txt\", \"r\")\n",
    "print(f.read())\n",
    "f.close()"
   ]
  },
  {
   "cell_type": "markdown",
   "id": "71dd3a95-0c3c-4a67-8968-361c229b3680",
   "metadata": {},
   "source": [
    "**2.Write to File(w)**"
   ]
  },
  {
   "cell_type": "code",
   "execution_count": 35,
   "id": "96f11660-b798-4ef8-87c6-093181c53954",
   "metadata": {},
   "outputs": [],
   "source": [
    "file = open(\"sample.txt\", \"w\")\n",
    "file.write(\"Hello, Everyone!\")\n",
    "file.close()"
   ]
  },
  {
   "cell_type": "markdown",
   "id": "78084bd8-a2e0-4d34-b0da-b71ea9140e51",
   "metadata": {},
   "source": [
    "**3. Append to File (a)**"
   ]
  },
  {
   "cell_type": "code",
   "execution_count": 36,
   "id": "6ad33119-1fab-4ee5-a41b-11702881d917",
   "metadata": {},
   "outputs": [],
   "source": [
    "f = open(\"sample.txt\", \"a\")\n",
    "f.write(\"\\nThis line is added using append mode.\")\n",
    "f.close()"
   ]
  },
  {
   "cell_type": "markdown",
   "id": "e785632c-3a8d-4e93-bbd9-4bb5dd7fddbe",
   "metadata": {},
   "source": [
    "## LIST Methods"
   ]
  },
  {
   "cell_type": "code",
   "execution_count": 37,
   "id": "42d2eb65-288c-42ad-bdc5-b4f546cd4c55",
   "metadata": {},
   "outputs": [],
   "source": [
    "my_list = [10, 20, 30, 20, 40, 10]"
   ]
  },
  {
   "cell_type": "code",
   "execution_count": 38,
   "id": "787ae8ad-75cb-443c-9803-8cbb2db0ab72",
   "metadata": {},
   "outputs": [
    {
     "name": "stdout",
     "output_type": "stream",
     "text": [
      "[10, 20, 30, 20, 40, 10, 50]\n"
     ]
    }
   ],
   "source": [
    "my_list.append(50)\n",
    "print(my_list)"
   ]
  },
  {
   "cell_type": "code",
   "execution_count": 39,
   "id": "2ee626d1-b045-4014-813f-ee96d3d321a3",
   "metadata": {},
   "outputs": [
    {
     "name": "stdout",
     "output_type": "stream",
     "text": [
      "[10, 20, 60, 30, 20, 40, 10, 50]\n"
     ]
    }
   ],
   "source": [
    "my_list.insert(2,60)\n",
    "print(my_list)"
   ]
  },
  {
   "cell_type": "code",
   "execution_count": 40,
   "id": "538c64a4-106d-4c30-94f9-a308bcf9aa8f",
   "metadata": {},
   "outputs": [
    {
     "name": "stdout",
     "output_type": "stream",
     "text": [
      "[10, 20, 60, 30, 20, 40, 10, 50, 60, 70]\n"
     ]
    }
   ],
   "source": [
    "data = [60, 70]\n",
    "my_list.extend(data)\n",
    "print(my_list)"
   ]
  },
  {
   "cell_type": "code",
   "execution_count": 41,
   "id": "3ec71f36-3a83-4950-9e5b-1c3170c43892",
   "metadata": {},
   "outputs": [
    {
     "data": {
      "text/plain": [
       "1"
      ]
     },
     "execution_count": 41,
     "metadata": {},
     "output_type": "execute_result"
    }
   ],
   "source": [
    "my_list.index(20)"
   ]
  },
  {
   "cell_type": "code",
   "execution_count": 42,
   "id": "7bac27a1-ed55-44fa-bacf-e037fe53da18",
   "metadata": {},
   "outputs": [
    {
     "data": {
      "text/plain": [
       "2"
      ]
     },
     "execution_count": 42,
     "metadata": {},
     "output_type": "execute_result"
    }
   ],
   "source": [
    "my_list.count(10)"
   ]
  },
  {
   "cell_type": "code",
   "execution_count": 43,
   "id": "90266a8e-6f00-46d4-b614-429035643afa",
   "metadata": {},
   "outputs": [
    {
     "name": "stdout",
     "output_type": "stream",
     "text": [
      "[10, 10, 20, 20, 30, 40, 50, 60, 60, 70]\n"
     ]
    }
   ],
   "source": [
    "my_list.sort()\n",
    "print(my_list)"
   ]
  },
  {
   "cell_type": "code",
   "execution_count": 44,
   "id": "a58f23af-7324-48e0-9e61-256fe99262e9",
   "metadata": {},
   "outputs": [
    {
     "name": "stdout",
     "output_type": "stream",
     "text": [
      "[70, 60, 60, 50, 40, 30, 20, 20, 10, 10]\n"
     ]
    }
   ],
   "source": [
    "my_list.reverse()\n",
    "print(my_list)"
   ]
  },
  {
   "cell_type": "code",
   "execution_count": 45,
   "id": "5d6730d5-87d0-47d5-bfbf-61009d8a29fe",
   "metadata": {},
   "outputs": [
    {
     "name": "stdout",
     "output_type": "stream",
     "text": [
      "[70, 60, 60, 50, 40, 30, 20, 20, 10, 10]\n"
     ]
    }
   ],
   "source": [
    "new_list = my_list.copy()\n",
    "print(new_list)"
   ]
  },
  {
   "cell_type": "code",
   "execution_count": 46,
   "id": "e1d337c3-40d0-4fda-bb67-e988044c43f9",
   "metadata": {},
   "outputs": [
    {
     "name": "stdout",
     "output_type": "stream",
     "text": [
      "[70, 60, 60, 50, 40, 30, 20, 10, 10]\n"
     ]
    }
   ],
   "source": [
    "my_list.remove(20)\n",
    "print(my_list)"
   ]
  },
  {
   "cell_type": "code",
   "execution_count": 47,
   "id": "55a89658-43d2-4f8d-8d9f-0dc4f22f00ce",
   "metadata": {},
   "outputs": [
    {
     "name": "stdout",
     "output_type": "stream",
     "text": [
      "[60, 60, 50, 40, 30, 20, 10, 10]\n"
     ]
    }
   ],
   "source": [
    "my_list.pop(0)\n",
    "print(my_list)"
   ]
  },
  {
   "cell_type": "code",
   "execution_count": 48,
   "id": "2614666b-ae83-4664-b5a3-e139e2b566f1",
   "metadata": {},
   "outputs": [
    {
     "name": "stdout",
     "output_type": "stream",
     "text": [
      "[]\n"
     ]
    }
   ],
   "source": [
    "my_list.clear()\n",
    "print(my_list)"
   ]
  },
  {
   "cell_type": "markdown",
   "id": "75b8afb5-6434-4f6b-9b01-2695787e6337",
   "metadata": {},
   "source": [
    "## Tuple Methods "
   ]
  },
  {
   "cell_type": "code",
   "execution_count": 49,
   "id": "a7e99617-17c8-450f-942a-db38378a4a03",
   "metadata": {},
   "outputs": [],
   "source": [
    "t = (1,2,4,5,3,5,6)"
   ]
  },
  {
   "cell_type": "code",
   "execution_count": 50,
   "id": "2f55ba99-cb12-4ffc-ba1b-fbd66b1fedee",
   "metadata": {},
   "outputs": [
    {
     "data": {
      "text/plain": [
       "2"
      ]
     },
     "execution_count": 50,
     "metadata": {},
     "output_type": "execute_result"
    }
   ],
   "source": [
    "t.count(5)"
   ]
  },
  {
   "cell_type": "code",
   "execution_count": 51,
   "id": "c8cd7e64-d6e4-4ef5-833b-a265fda8fc1d",
   "metadata": {},
   "outputs": [
    {
     "data": {
      "text/plain": [
       "2"
      ]
     },
     "execution_count": 51,
     "metadata": {},
     "output_type": "execute_result"
    }
   ],
   "source": [
    "t.index(4)"
   ]
  },
  {
   "cell_type": "markdown",
   "id": "ff0d7e7e-4d81-4268-9073-defe9da214a1",
   "metadata": {},
   "source": [
    "## SET Methods"
   ]
  },
  {
   "cell_type": "code",
   "execution_count": 52,
   "id": "07cc937d-75b1-4205-819c-5fd975178ece",
   "metadata": {},
   "outputs": [],
   "source": [
    "s = {1,2,5,6,3,7,6,4}"
   ]
  },
  {
   "cell_type": "code",
   "execution_count": 53,
   "id": "ce608f93-0436-4c43-92e6-f7e0c865af97",
   "metadata": {},
   "outputs": [
    {
     "name": "stdout",
     "output_type": "stream",
     "text": [
      "{1, 2, 3, 4, 5, 6, 7, 8}\n"
     ]
    }
   ],
   "source": [
    "s.add(8)\n",
    "print(s)"
   ]
  },
  {
   "cell_type": "code",
   "execution_count": 54,
   "id": "f2ca5b7d-25d4-4dba-9266-ca10ba098aef",
   "metadata": {},
   "outputs": [
    {
     "name": "stdout",
     "output_type": "stream",
     "text": [
      "{1, 2, 3, 4, 5, 6, 7, 8, 9}\n"
     ]
    }
   ],
   "source": [
    "data = [3,6,9]\n",
    "s.update(data)\n",
    "print(s)"
   ]
  },
  {
   "cell_type": "code",
   "execution_count": 55,
   "id": "c7f11bd7-ae01-4fd5-87ff-5a0bb79aa454",
   "metadata": {},
   "outputs": [
    {
     "name": "stdout",
     "output_type": "stream",
     "text": [
      "{1, 2, 3, 4, 5, 6, 7, 9}\n"
     ]
    }
   ],
   "source": [
    "s.remove(8) #gives error if not found\n",
    "print(s)"
   ]
  },
  {
   "cell_type": "code",
   "execution_count": 56,
   "id": "78544f55-babd-4baf-beb9-f20feb710b68",
   "metadata": {},
   "outputs": [
    {
     "name": "stdout",
     "output_type": "stream",
     "text": [
      "{1, 2, 3, 4, 5, 6, 7}\n"
     ]
    }
   ],
   "source": [
    "s.discard(9) #no error if not found\n",
    "print(s)"
   ]
  },
  {
   "cell_type": "code",
   "execution_count": 57,
   "id": "e6c2388d-875f-40db-b6be-211d787ab185",
   "metadata": {},
   "outputs": [
    {
     "name": "stdout",
     "output_type": "stream",
     "text": [
      "{2, 3, 4, 5, 6, 7}\n"
     ]
    }
   ],
   "source": [
    "s.pop()\n",
    "print(s)"
   ]
  },
  {
   "cell_type": "code",
   "execution_count": 58,
   "id": "1bbd5592-b542-402f-ae6c-4744e09bfae0",
   "metadata": {},
   "outputs": [
    {
     "name": "stdout",
     "output_type": "stream",
     "text": [
      "set()\n"
     ]
    }
   ],
   "source": [
    "s.clear()\n",
    "print(s)"
   ]
  },
  {
   "cell_type": "code",
   "execution_count": 59,
   "id": "46ec930c-85b1-4d0f-9510-3516b521f5fa",
   "metadata": {},
   "outputs": [],
   "source": [
    "A = {1, 2, 3, 4}\n",
    "B = {3, 4, 5, 6}"
   ]
  },
  {
   "cell_type": "code",
   "execution_count": 60,
   "id": "050a5a7b-011c-49aa-8630-a63cfdcdce80",
   "metadata": {},
   "outputs": [
    {
     "data": {
      "text/plain": [
       "{1, 2, 3, 4, 5, 6}"
      ]
     },
     "execution_count": 60,
     "metadata": {},
     "output_type": "execute_result"
    }
   ],
   "source": [
    "A.union(B)"
   ]
  },
  {
   "cell_type": "code",
   "execution_count": 61,
   "id": "9ddf04f2-ebf0-4ca9-8097-9d1431eb4a7f",
   "metadata": {},
   "outputs": [
    {
     "data": {
      "text/plain": [
       "{3, 4}"
      ]
     },
     "execution_count": 61,
     "metadata": {},
     "output_type": "execute_result"
    }
   ],
   "source": [
    "A.intersection(B)"
   ]
  },
  {
   "cell_type": "code",
   "execution_count": 62,
   "id": "c0db82f2-9cc7-467d-b270-a4932da117e9",
   "metadata": {},
   "outputs": [
    {
     "data": {
      "text/plain": [
       "{1, 2}"
      ]
     },
     "execution_count": 62,
     "metadata": {},
     "output_type": "execute_result"
    }
   ],
   "source": [
    "A.difference(B)"
   ]
  },
  {
   "cell_type": "code",
   "execution_count": 63,
   "id": "de40d700-c8d8-4d7d-ada8-f591e4ab1102",
   "metadata": {},
   "outputs": [
    {
     "data": {
      "text/plain": [
       "{1, 2, 5, 6}"
      ]
     },
     "execution_count": 63,
     "metadata": {},
     "output_type": "execute_result"
    }
   ],
   "source": [
    "A.symmetric_difference(B)"
   ]
  },
  {
   "cell_type": "code",
   "execution_count": 64,
   "id": "ccfc0244-facf-43dc-95de-afdace0e4f8c",
   "metadata": {},
   "outputs": [
    {
     "data": {
      "text/plain": [
       "False"
      ]
     },
     "execution_count": 64,
     "metadata": {},
     "output_type": "execute_result"
    }
   ],
   "source": [
    "A.issubset(B)"
   ]
  },
  {
   "cell_type": "code",
   "execution_count": 65,
   "id": "ece7b555-3501-4208-abdb-36ca6608546f",
   "metadata": {},
   "outputs": [
    {
     "data": {
      "text/plain": [
       "False"
      ]
     },
     "execution_count": 65,
     "metadata": {},
     "output_type": "execute_result"
    }
   ],
   "source": [
    "A.issuperset(B)"
   ]
  },
  {
   "cell_type": "code",
   "execution_count": 66,
   "id": "9d2d0780-3868-4211-98f4-6dcc9a23fcd5",
   "metadata": {},
   "outputs": [
    {
     "name": "stdout",
     "output_type": "stream",
     "text": [
      "{1, 2, 3, 4}\n"
     ]
    }
   ],
   "source": [
    "C = A.copy()\n",
    "print(C)"
   ]
  },
  {
   "cell_type": "code",
   "execution_count": null,
   "id": "573a7490-84d5-4fdd-b0c8-b95e8e23e201",
   "metadata": {},
   "outputs": [],
   "source": []
  }
 ],
 "metadata": {
  "kernelspec": {
   "display_name": "Python 3 (ipykernel)",
   "language": "python",
   "name": "python3"
  },
  "language_info": {
   "codemirror_mode": {
    "name": "ipython",
    "version": 3
   },
   "file_extension": ".py",
   "mimetype": "text/x-python",
   "name": "python",
   "nbconvert_exporter": "python",
   "pygments_lexer": "ipython3",
   "version": "3.13.5"
  }
 },
 "nbformat": 4,
 "nbformat_minor": 5
}
