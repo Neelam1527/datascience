{
 "cells": [
  {
   "cell_type": "markdown",
   "id": "a05a061a-70e0-41c8-be03-a7658d31a43b",
   "metadata": {},
   "source": [
    "# Task 3 : NumPy Functions and Operations"
   ]
  },
  {
   "cell_type": "code",
   "execution_count": 1,
   "id": "8e781bee-571b-4667-bfa8-83c073ae8b3a",
   "metadata": {},
   "outputs": [],
   "source": [
    "import numpy as np"
   ]
  },
  {
   "cell_type": "code",
   "execution_count": 2,
   "id": "0d09cf30-7a37-473b-a412-0d18090d001e",
   "metadata": {},
   "outputs": [],
   "source": [
    "a = np.array([[1,2,3],[9,5,6]])"
   ]
  },
  {
   "cell_type": "code",
   "execution_count": 3,
   "id": "f01b67a8-d06b-4960-90f7-143b09c0e324",
   "metadata": {},
   "outputs": [
    {
     "data": {
      "text/plain": [
       "(2, 3)"
      ]
     },
     "execution_count": 3,
     "metadata": {},
     "output_type": "execute_result"
    }
   ],
   "source": [
    "a.shape"
   ]
  },
  {
   "cell_type": "code",
   "execution_count": 4,
   "id": "ea7607af-e984-4695-8ee7-0d3a6e4a2433",
   "metadata": {},
   "outputs": [
    {
     "data": {
      "text/plain": [
       "6"
      ]
     },
     "execution_count": 4,
     "metadata": {},
     "output_type": "execute_result"
    }
   ],
   "source": [
    "a.size"
   ]
  },
  {
   "cell_type": "code",
   "execution_count": 5,
   "id": "86d17577-2221-4da4-a7ac-5fba21961108",
   "metadata": {},
   "outputs": [
    {
     "data": {
      "text/plain": [
       "dtype('int64')"
      ]
     },
     "execution_count": 5,
     "metadata": {},
     "output_type": "execute_result"
    }
   ],
   "source": [
    "a.dtype"
   ]
  },
  {
   "cell_type": "code",
   "execution_count": 6,
   "id": "3bcd76e9-a390-4b01-aacc-ea41984bb456",
   "metadata": {},
   "outputs": [
    {
     "data": {
      "text/plain": [
       "2"
      ]
     },
     "execution_count": 6,
     "metadata": {},
     "output_type": "execute_result"
    }
   ],
   "source": [
    "a.ndim"
   ]
  },
  {
   "cell_type": "code",
   "execution_count": 7,
   "id": "72dab825-6530-43af-afa0-6b943153f123",
   "metadata": {},
   "outputs": [
    {
     "data": {
      "text/plain": [
       "array([[0., 0.],\n",
       "       [0., 0.]])"
      ]
     },
     "execution_count": 7,
     "metadata": {},
     "output_type": "execute_result"
    }
   ],
   "source": [
    "np.zeros((2, 2)) "
   ]
  },
  {
   "cell_type": "code",
   "execution_count": 8,
   "id": "090c8712-83c5-466c-8b15-9b85699c8f61",
   "metadata": {},
   "outputs": [
    {
     "data": {
      "text/plain": [
       "array([[1., 1., 1.],\n",
       "       [1., 1., 1.],\n",
       "       [1., 1., 1.]])"
      ]
     },
     "execution_count": 8,
     "metadata": {},
     "output_type": "execute_result"
    }
   ],
   "source": [
    "np.ones((3, 3))  "
   ]
  },
  {
   "cell_type": "code",
   "execution_count": 9,
   "id": "86f4116e-31bc-447e-a490-ba081524fb9f",
   "metadata": {},
   "outputs": [
    {
     "data": {
      "text/plain": [
       "array([[6, 6, 6, 6, 6],\n",
       "       [6, 6, 6, 6, 6],\n",
       "       [6, 6, 6, 6, 6],\n",
       "       [6, 6, 6, 6, 6]])"
      ]
     },
     "execution_count": 9,
     "metadata": {},
     "output_type": "execute_result"
    }
   ],
   "source": [
    "np.full((4,5),6)"
   ]
  },
  {
   "cell_type": "code",
   "execution_count": 10,
   "id": "39323e6d-fa2a-42dd-bca4-480d7d793615",
   "metadata": {},
   "outputs": [
    {
     "data": {
      "text/plain": [
       "array([[1., 0., 0.],\n",
       "       [0., 1., 0.],\n",
       "       [0., 0., 1.]])"
      ]
     },
     "execution_count": 10,
     "metadata": {},
     "output_type": "execute_result"
    }
   ],
   "source": [
    "np.eye(3)           "
   ]
  },
  {
   "cell_type": "code",
   "execution_count": 11,
   "id": "85f3c437-881f-45ea-9d83-e1688c201fa5",
   "metadata": {},
   "outputs": [
    {
     "data": {
      "text/plain": [
       "array([0, 2, 4, 6, 8])"
      ]
     },
     "execution_count": 11,
     "metadata": {},
     "output_type": "execute_result"
    }
   ],
   "source": [
    "np.arange(0, 10, 2)"
   ]
  },
  {
   "cell_type": "code",
   "execution_count": 12,
   "id": "a5af6fcb-2b19-43f1-ab64-615119975801",
   "metadata": {},
   "outputs": [
    {
     "data": {
      "text/plain": [
       "array([ 0.,  5., 10., 15., 20.])"
      ]
     },
     "execution_count": 12,
     "metadata": {},
     "output_type": "execute_result"
    }
   ],
   "source": [
    "np.linspace(0, 20, 5)"
   ]
  },
  {
   "cell_type": "code",
   "execution_count": 13,
   "id": "067a3f60-a84b-49c3-bc13-49001247df67",
   "metadata": {},
   "outputs": [
    {
     "data": {
      "text/plain": [
       "array([[1, 2, 3],\n",
       "       [5, 6, 9]])"
      ]
     },
     "execution_count": 13,
     "metadata": {},
     "output_type": "execute_result"
    }
   ],
   "source": [
    "np.sort(a)"
   ]
  },
  {
   "cell_type": "code",
   "execution_count": 14,
   "id": "f5bdcff3-ba8b-4dfb-9c56-6554b4cbed34",
   "metadata": {},
   "outputs": [
    {
     "data": {
      "text/plain": [
       "array([[1, 2],\n",
       "       [3, 9],\n",
       "       [5, 6]])"
      ]
     },
     "execution_count": 14,
     "metadata": {},
     "output_type": "execute_result"
    }
   ],
   "source": [
    "a.reshape((3,2))"
   ]
  },
  {
   "cell_type": "code",
   "execution_count": 15,
   "id": "ae526aa3-dbbf-49a5-a471-6fed8d9a9e86",
   "metadata": {},
   "outputs": [
    {
     "data": {
      "text/plain": [
       "array([1, 2, 3, 9, 5, 6])"
      ]
     },
     "execution_count": 15,
     "metadata": {},
     "output_type": "execute_result"
    }
   ],
   "source": [
    "a.flatten()"
   ]
  },
  {
   "cell_type": "code",
   "execution_count": 16,
   "id": "073fa01c-61f1-4afa-8e2e-6fb92ada9751",
   "metadata": {},
   "outputs": [
    {
     "name": "stdout",
     "output_type": "stream",
     "text": [
      "[[1 2 3]\n",
      " [9 5 6]]\n"
     ]
    }
   ],
   "source": [
    "b = a.copy()\n",
    "print(b)"
   ]
  },
  {
   "cell_type": "code",
   "execution_count": 17,
   "id": "201c9387-89f0-4218-b341-3414d5d7131a",
   "metadata": {},
   "outputs": [
    {
     "name": "stdout",
     "output_type": "stream",
     "text": [
      "[[ 3  4  5]\n",
      " [11  7  8]]\n"
     ]
    }
   ],
   "source": [
    "print(a+2)"
   ]
  },
  {
   "cell_type": "code",
   "execution_count": 18,
   "id": "2bde430c-82a6-4daf-b170-dc956fd9f649",
   "metadata": {},
   "outputs": [
    {
     "name": "stdout",
     "output_type": "stream",
     "text": [
      "[1 2 3 5 6 9]\n"
     ]
    }
   ],
   "source": [
    "unique = np.unique(a)\n",
    "print(unique)"
   ]
  },
  {
   "cell_type": "code",
   "execution_count": 19,
   "id": "52958ae6-2c5d-4906-b854-c732bb781987",
   "metadata": {},
   "outputs": [
    {
     "name": "stdout",
     "output_type": "stream",
     "text": [
      "<class 'numpy.ndarray'>\n"
     ]
    }
   ],
   "source": [
    "print(type(a))"
   ]
  },
  {
   "cell_type": "code",
   "execution_count": 20,
   "id": "9c78107b-e8ca-44bb-8582-8106ebb9d3aa",
   "metadata": {},
   "outputs": [
    {
     "name": "stdout",
     "output_type": "stream",
     "text": [
      "[[9.35027920e-312 3.16202013e-322 0.00000000e+000 0.00000000e+000]\n",
      " [0.00000000e+000 5.39733969e-066 3.11170566e-032 2.09164746e-076]\n",
      " [3.56777230e-057 2.69768796e+184 5.39967677e-066 5.19824243e-062]]\n"
     ]
    }
   ],
   "source": [
    "emp = np.empty((3,4))\n",
    "print(emp)"
   ]
  },
  {
   "cell_type": "code",
   "execution_count": 21,
   "id": "52b5d20e-946b-40f8-b82c-c4fc9e3975a6",
   "metadata": {},
   "outputs": [
    {
     "name": "stdout",
     "output_type": "stream",
     "text": [
      "[[0.38164926 0.10695019 0.31131957]\n",
      " [0.008857   0.75450724 0.93006364]\n",
      " [0.81559071 0.92620743 0.94376884]]\n"
     ]
    }
   ],
   "source": [
    "rdm = np.random.rand(3,3)\n",
    "print(rdm)"
   ]
  },
  {
   "cell_type": "code",
   "execution_count": 22,
   "id": "963fd97d-329d-4dd5-a475-3eb9fb42c442",
   "metadata": {},
   "outputs": [
    {
     "name": "stdout",
     "output_type": "stream",
     "text": [
      "[[1. 0. 0. 0. 0. 0.]\n",
      " [0. 1. 0. 0. 0. 0.]\n",
      " [0. 0. 1. 0. 0. 0.]\n",
      " [0. 0. 0. 1. 0. 0.]\n",
      " [0. 0. 0. 0. 1. 0.]\n",
      " [0. 0. 0. 0. 0. 1.]]\n"
     ]
    }
   ],
   "source": [
    "ide = np.identity(6)\n",
    "print(ide)"
   ]
  },
  {
   "cell_type": "code",
   "execution_count": 23,
   "id": "9d76f23d-24c9-4bf1-8411-1c9f01ed3853",
   "metadata": {},
   "outputs": [
    {
     "data": {
      "text/plain": [
       "array([10,  7,  9])"
      ]
     },
     "execution_count": 23,
     "metadata": {},
     "output_type": "execute_result"
    }
   ],
   "source": [
    "a.sum(axis=0)"
   ]
  },
  {
   "cell_type": "code",
   "execution_count": 24,
   "id": "fc8bb90b-8581-45a9-8d04-db7e82d2ce05",
   "metadata": {},
   "outputs": [
    {
     "data": {
      "text/plain": [
       "array([ 6, 20])"
      ]
     },
     "execution_count": 24,
     "metadata": {},
     "output_type": "execute_result"
    }
   ],
   "source": [
    "a.sum( axis=1)"
   ]
  },
  {
   "cell_type": "code",
   "execution_count": 25,
   "id": "ef981ae3-2510-44ad-b090-c3e2e7bc1c77",
   "metadata": {},
   "outputs": [],
   "source": [
    "arr = np.array([1,2,5,4,7,3,8,7,6,9])"
   ]
  },
  {
   "cell_type": "code",
   "execution_count": 26,
   "id": "66c36e70-7d0f-4469-80ef-46a25e9e6f56",
   "metadata": {},
   "outputs": [
    {
     "data": {
      "text/plain": [
       "np.int64(1)"
      ]
     },
     "execution_count": 26,
     "metadata": {},
     "output_type": "execute_result"
    }
   ],
   "source": [
    "arr.min()"
   ]
  },
  {
   "cell_type": "code",
   "execution_count": 27,
   "id": "3231b872-f52d-4f2e-9bd1-6ea41976b20d",
   "metadata": {},
   "outputs": [
    {
     "data": {
      "text/plain": [
       "np.int64(9)"
      ]
     },
     "execution_count": 27,
     "metadata": {},
     "output_type": "execute_result"
    }
   ],
   "source": [
    "arr.max()"
   ]
  },
  {
   "cell_type": "code",
   "execution_count": 28,
   "id": "eb062c5f-4f3e-4ede-8efd-41c0d258aaa5",
   "metadata": {},
   "outputs": [
    {
     "data": {
      "text/plain": [
       "array([[1, 2],\n",
       "       [5, 4],\n",
       "       [7, 3],\n",
       "       [8, 7],\n",
       "       [6, 9]])"
      ]
     },
     "execution_count": 28,
     "metadata": {},
     "output_type": "execute_result"
    }
   ],
   "source": [
    "arr.reshape(5,2)"
   ]
  },
  {
   "cell_type": "code",
   "execution_count": 29,
   "id": "48d17dbc-f63b-4713-afd6-94fff50115da",
   "metadata": {},
   "outputs": [
    {
     "data": {
      "text/plain": [
       "array([1, 2, 5, 4, 7, 3, 8, 7, 6, 9])"
      ]
     },
     "execution_count": 29,
     "metadata": {},
     "output_type": "execute_result"
    }
   ],
   "source": [
    "arr.ravel()"
   ]
  },
  {
   "cell_type": "code",
   "execution_count": 30,
   "id": "76ddae94-a3b9-4a0f-9e87-997a1b578073",
   "metadata": {},
   "outputs": [
    {
     "data": {
      "text/plain": [
       "np.int64(52)"
      ]
     },
     "execution_count": 30,
     "metadata": {},
     "output_type": "execute_result"
    }
   ],
   "source": [
    "arr.sum()"
   ]
  },
  {
   "cell_type": "code",
   "execution_count": 31,
   "id": "7e724ebb-9028-4e76-af51-01dc1ee13ff9",
   "metadata": {},
   "outputs": [
    {
     "data": {
      "text/plain": [
       "array([2., 3., 4., 5., 6.])"
      ]
     },
     "execution_count": 31,
     "metadata": {},
     "output_type": "execute_result"
    }
   ],
   "source": [
    "arr2 = np.array([4,9,16,25,36])\n",
    "np.sqrt(arr2)"
   ]
  },
  {
   "cell_type": "code",
   "execution_count": 34,
   "id": "3480acd0-1f7a-4714-8f85-2b2fc8bc43c7",
   "metadata": {},
   "outputs": [
    {
     "data": {
      "text/plain": [
       "(array([2, 3, 4, 6, 7, 8, 9]),)"
      ]
     },
     "execution_count": 34,
     "metadata": {},
     "output_type": "execute_result"
    }
   ],
   "source": [
    "np.where(arr > 3)"
   ]
  }
 ],
 "metadata": {
  "kernelspec": {
   "display_name": "Python 3 (ipykernel)",
   "language": "python",
   "name": "python3"
  },
  "language_info": {
   "codemirror_mode": {
    "name": "ipython",
    "version": 3
   },
   "file_extension": ".py",
   "mimetype": "text/x-python",
   "name": "python",
   "nbconvert_exporter": "python",
   "pygments_lexer": "ipython3",
   "version": "3.13.5"
  }
 },
 "nbformat": 4,
 "nbformat_minor": 5
}
